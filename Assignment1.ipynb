{
  "nbformat": 4,
  "nbformat_minor": 0,
  "metadata": {
    "colab": {
      "provenance": []
    },
    "kernelspec": {
      "name": "python3",
      "display_name": "Python 3"
    },
    "language_info": {
      "name": "python"
    }
  },
  "cells": [
    {
      "cell_type": "markdown",
      "source": [
        "\n",
        "*   Coding Problems 1.1, 1.2, and 1.3\n",
        "*   Miles Delos Santos\n",
        "*   CPSC 2100\n",
        "*   Due on 2/7/25"
      ],
      "metadata": {
        "id": "MXial9pEn4Tz"
      }
    },
    {
      "cell_type": "code",
      "execution_count": null,
      "metadata": {
        "id": "OW7LbZYBn9_x",
        "colab": {
          "base_uri": "https://localhost:8080/"
        },
        "outputId": "0a923398-f141-4bb0-a806-27c94f998704"
      },
      "outputs": [
        {
          "output_type": "stream",
          "name": "stdout",
          "text": [
            "You're now using the Lowercase Vowel Checking program.\n",
            "As the name implies, this program checks strings for any lowercase vowels.\n",
            "\n",
            "Please enter a string: azcbobobegghakl\n",
            "Your string is azcbobobegghakl.\n",
            "This string has 5 vowels in it.\n",
            "\n",
            "Please enter a string: aeiou\n",
            "Your string is aeiou.\n",
            "This string has 5 vowels in it.\n",
            "\n",
            "Please enter a string: xyz\n",
            "Your string is xyz.\n",
            "This string has 0 vowels in it.\n",
            "\n"
          ]
        }
      ],
      "source": [
        "# Problem 1.1\n",
        "\n",
        "print(\"You're now using the Lowercase Vowel Checking program.\")\n",
        "print(\"As the name implies, this program checks strings for any lowercase vowels.\\n\")\n",
        "\n",
        "for i in range(3):\n",
        "  s = input(\"Please enter a string: \")\n",
        "  print(f\"Your string is {s}.\")\n",
        "  vowelCount = 0 # intializes vowel counter\n",
        "  for char in s: # checks if there're any vowels in the string provided, if there is then the vowel counter goes up by one\n",
        "    if char in \"aeiou\":\n",
        "      vowelCount += 1\n",
        "  print(f\"This string has {vowelCount} vowels in it.\\n\") # line that prints how many vowels the string has"
      ]
    },
    {
      "cell_type": "code",
      "source": [
        "# Problem 1.2\n",
        "\n",
        "print(\"You're now using the bob Checker program.\")\n",
        "print(\"This program checks any string entered for the substring 'bob'.\\n\")\n",
        "\n",
        "# it's similar to the previous problem, the only difference is how the program checks for the substring\n",
        "for i in range(3):\n",
        "  s = input(\"Please enter a string: \")\n",
        "  print(f\"Your string is {s}.\")\n",
        "  bobCount = 0 # initialzing the bob checker\n",
        "  for j in range(len(s) - 2): # len(s) - 2 guarentees the substring has a length of 3\n",
        "                              # loop also checks if the substring starting at index j is bob or not\n",
        "    if s[j:j+3] == \"bob\":\n",
        "      bobCount += 1\n",
        "  print(f\"The number of times that bob occurs in this string is {bobCount}.\\n\") # How many bobs are in the string?"
      ],
      "metadata": {
        "colab": {
          "base_uri": "https://localhost:8080/"
        },
        "id": "L8e_XvGv1CyI",
        "outputId": "85c0dc86-ef0e-458e-b13c-21a6f607ee06"
      },
      "execution_count": null,
      "outputs": [
        {
          "output_type": "stream",
          "name": "stdout",
          "text": [
            "You're now using the bob Checker program.\n",
            "This program checks any string entered for the substring 'bob'.\n",
            "\n",
            "Please enter a string: azcbobobegghakl\n",
            "Your string is azcbobobegghakl.\n",
            "The number of times that bob occurs in this string is 2.\n",
            "\n",
            "Please enter a string: bobobob\n",
            "Your string is bobobob.\n",
            "The number of times that bob occurs in this string is 3.\n",
            "\n",
            "Please enter a string: bobbybob\n",
            "Your string is bobbybob.\n",
            "The number of times that bob occurs in this string is 2.\n",
            "\n"
          ]
        }
      ]
    },
    {
      "cell_type": "code",
      "source": [
        "# Problem 1.3\n",
        "\n",
        "print(\"You're now using the Longest Substring in Alphabetical Order program.\")\n",
        "print(\"As the name implies, this program checks strings for the longest substring in alphabetical order.\\n\")\n",
        "\n",
        "for i in range(4):\n",
        "  s = input(\"Please enter a string: \")\n",
        "  print(f\"Your string is {s}.\")\n",
        "  current = s[0] # the current substring\n",
        "  longest = s[0] # the longest substring so far\n",
        "  for j in range(1, len(s)):\n",
        "    if s[j] >= s[j-1]: # comparing current letter with the previous one\n",
        "      current += s[j]\n",
        "    else:\n",
        "      if len(current) > len(longest): # update longest substring if it's longer than the previous longest substring\n",
        "        longest = current\n",
        "      current = s[j] # reset current longest substring to start with whatever the current letter is\n",
        "    if len(current) > len(longest): # need this and the next line or else it'll say the longest substring in abcdef is a\n",
        "      longest = current\n",
        "  print(f\"The longest substring in alpabetical order is: {longest}\\n\") # line that prints what the longest substring is"
      ],
      "metadata": {
        "id": "wZuo20-w7Bma",
        "colab": {
          "base_uri": "https://localhost:8080/"
        },
        "outputId": "f5b99536-0e41-442b-e8d3-0845f6ea7fa7"
      },
      "execution_count": 2,
      "outputs": [
        {
          "output_type": "stream",
          "name": "stdout",
          "text": [
            "You're now using the Longest Substring in Alphabetical Order program.\n",
            "As the name implies, this program checks strings for the longest substring in alphabetical order.\n",
            "\n",
            "Please enter a string: azcbobobegghakl\n",
            "Your string is azcbobobegghakl.\n",
            "The longest substring in alpabetical order is: beggh\n",
            "\n",
            "Please enter a string: abcbcd\n",
            "Your string is abcbcd.\n",
            "The longest substring in alpabetical order is: abc\n",
            "\n",
            "Please enter a string: zyxwvutsr\n",
            "Your string is zyxwvutsr.\n",
            "The longest substring in alpabetical order is: z\n",
            "\n",
            "Please enter a string: abcdef\n",
            "Your string is abcdef.\n",
            "The longest substring in alpabetical order is: abcdef\n",
            "\n"
          ]
        }
      ]
    }
  ]
}