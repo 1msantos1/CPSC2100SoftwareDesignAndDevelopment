{
  "nbformat": 4,
  "nbformat_minor": 0,
  "metadata": {
    "colab": {
      "provenance": [],
      "authorship_tag": "ABX9TyOUEWXgECy99gtOxvmE7NXK"
    },
    "kernelspec": {
      "name": "python3",
      "display_name": "Python 3"
    },
    "language_info": {
      "name": "python"
    }
  },
  "cells": [
    {
      "cell_type": "code",
      "execution_count": null,
      "metadata": {
        "colab": {
          "base_uri": "https://localhost:8080/"
        },
        "id": "lijY-Ul9E70D",
        "outputId": "b9fd5f89-bb22-4505-cb7d-d0e6323590b7"
      },
      "outputs": [
        {
          "output_type": "stream",
          "name": "stdout",
          "text": [
            "Alice: 25\n",
            "Bob: 30\n",
            "Charlie: 35\n",
            "David: 40\n",
            "Eva: 45\n"
          ]
        }
      ],
      "source": [
        "\"\"\"\n",
        "You have a list of tuples where each tuple contains a person's name and their age. Write a program that iterates through the list using range\n",
        "and prints each person's name along with their age, in the format Name: Age\n",
        "\"\"\"\n",
        "\n",
        "people = [('Alice', 25), ('Bob', 30), ('Charlie', 35), ('David', 40), ('Eva', 45)]\n",
        "\n",
        "for i in range(len(people)):\n",
        "  (name, age) = people[i]\n",
        "  print(f\"{name}: {age}\")\n",
        "\n",
        "\"\"\"\n",
        "# alternatively you can do this\n",
        "for i in people:\n",
        "  (name, age) = i\n",
        "  print(f\"{name}: {age}\")\n",
        "\"\"\""
      ]
    },
    {
      "cell_type": "code",
      "source": [
        "\"\"\"\n",
        "You're given the following list of dictionaries, where each dictionary represents a student's information\n",
        "Write a program that iterates through the list using the values, and for each student, prints their name, age, and major in the following format - Name: Age, Major: Major\n",
        "\"\"\"\n",
        "\n",
        "students = [\n",
        "    {'name': 'Alice', 'age': 25, 'major': 'Computer Science'},\n",
        "    {'name': 'Bob', 'age': 30, 'major': 'Biology'},\n",
        "    {'name': 'Charlie', 'age': 22, 'major': 'Mathematics'},\n",
        "    {'name': 'David', 'age': 28, 'major': 'Physics'}\n",
        "]\n",
        "\n",
        "for stu in students:\n",
        "  name = stu['name']\n",
        "  age = stu['age']\n",
        "  major = stu['major']\n",
        "  print(f\"{name}: {age}, Major: {major}\")"
      ],
      "metadata": {
        "colab": {
          "base_uri": "https://localhost:8080/"
        },
        "id": "g8K5U7lxGbva",
        "outputId": "ecf521f0-21f8-4a81-f336-e769122b6de9"
      },
      "execution_count": null,
      "outputs": [
        {
          "output_type": "stream",
          "name": "stdout",
          "text": [
            "Alice: 25, Major: Computer Science\n",
            "Bob: 30, Major: Biology\n",
            "Charlie: 22, Major: Mathematics\n",
            "David: 28, Major: Physics\n"
          ]
        }
      ]
    },
    {
      "cell_type": "code",
      "source": [
        "\"\"\"\n",
        "Write a program that iterates through the dictionary and prints each employee's name, followed by the number of projects they are on, in the following format:\n",
        "Employee: Number of Projects\n",
        "\"\"\"\n",
        "\n",
        "employees = {\n",
        "    'Alice': ['Project A', 'Project B', 'Project C'],\n",
        "    'Bob': ['Project X', 'Project Y'],\n",
        "    'Charlie': ['Project M', 'Project N', 'Project O', 'Project P'],\n",
        "    'David': ['Project Z']\n",
        "}\n",
        "\n",
        "for key, values in employees.items():\n",
        "  numOfProj = len(values)\n",
        "  print(f\"{key}: {numOfProj}\")\n"
      ],
      "metadata": {
        "colab": {
          "base_uri": "https://localhost:8080/"
        },
        "id": "vF51OSvFJ_HN",
        "outputId": "5b131495-ef90-4f8c-fe68-d764f84363f6"
      },
      "execution_count": null,
      "outputs": [
        {
          "output_type": "stream",
          "name": "stdout",
          "text": [
            "Alice: 3\n",
            "Bob: 2\n",
            "Charlie: 4\n",
            "David: 1\n"
          ]
        }
      ]
    },
    {
      "cell_type": "code",
      "source": [
        "\"\"\"\n",
        "You're given a string that represents a sentence. Write a program that performs the following:\n",
        "Extract the first and last three characters of the sentence using string slicing.\n",
        "Replace every space in the sentence with a hyphen (-). (hint: use split and join)\n",
        "\"\"\"\n",
        "\n",
        "sentence = \"Python programming is fun\"\n",
        "\n",
        "firstThree = sentence[:3] # could also do sentence[0:3]\n",
        "lastThree = sentence[-3:] # negative indexing\n",
        "\n",
        "temp = sentence.split()\n",
        "modifiedSentence = \"-\".join(temp)\n",
        "\n",
        "print(f\"First three characters: {firstThree}\")\n",
        "print(f\"Last three characters: {lastThree}\")\n",
        "print(f\"Modified sentence: {modifiedSentence}\")\n",
        "\n"
      ],
      "metadata": {
        "colab": {
          "base_uri": "https://localhost:8080/"
        },
        "id": "uidyVqHXLl6t",
        "outputId": "acd5ec5c-64ae-427a-a769-14adf1323f23"
      },
      "execution_count": null,
      "outputs": [
        {
          "output_type": "stream",
          "name": "stdout",
          "text": [
            "First three characters: Pyt\n",
            "Last three characters: fun\n",
            "Modified sentence: Python-programming-is-fun\n"
          ]
        }
      ]
    },
    {
      "cell_type": "code",
      "source": [
        "\"\"\"\n",
        "Create two lambda functions, one that squares a number and another that adds 5 to a number\n",
        "\"\"\"\n",
        "\n",
        "numbers = [1, 2, 3, 4, 5]\n",
        "\n",
        "square = lambda a: a**2\n",
        "\n",
        "addFive = lambda a: a+5\n",
        "\n",
        "squares = []\n",
        "fives = []\n",
        "\n",
        "for i in numbers:\n",
        "  squares.append(square(i))\n",
        "  fives.append(addFive(i))\n",
        "\n",
        "print(squares, fives)"
      ],
      "metadata": {
        "colab": {
          "base_uri": "https://localhost:8080/"
        },
        "id": "mQOUAHlIOtdi",
        "outputId": "5c38c9f8-521d-4717-959b-61edf8304a03"
      },
      "execution_count": null,
      "outputs": [
        {
          "output_type": "stream",
          "name": "stdout",
          "text": [
            "[1, 4, 9, 16, 25] [6, 7, 8, 9, 10]\n"
          ]
        }
      ]
    },
    {
      "cell_type": "code",
      "source": [
        "\"\"\"\n",
        "Do the same thing as the previous block with list comprehension, also skip every even number. Also this one looks very important, remember it.\n",
        "\"\"\"\n",
        "numbers= [1, 2, 3, 4, 5]\n",
        "squares = [e**2 for e in numbers if e % 2 != 0]\n",
        "fives = [e+5 for e in numbers if e % 2 != 0]\n",
        "print(squares, fives)"
      ],
      "metadata": {
        "colab": {
          "base_uri": "https://localhost:8080/"
        },
        "id": "050SGsbtPksw",
        "outputId": "f390bbf5-6c7b-49fe-bd07-cefff924bcfc"
      },
      "execution_count": null,
      "outputs": [
        {
          "output_type": "stream",
          "name": "stdout",
          "text": [
            "[1, 9, 25] [6, 8, 10]\n"
          ]
        }
      ]
    }
  ]
}