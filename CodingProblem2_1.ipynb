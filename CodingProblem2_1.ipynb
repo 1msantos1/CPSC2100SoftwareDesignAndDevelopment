{
  "nbformat": 4,
  "nbformat_minor": 0,
  "metadata": {
    "colab": {
      "provenance": []
    },
    "kernelspec": {
      "name": "python3",
      "display_name": "Python 3"
    },
    "language_info": {
      "name": "python"
    }
  },
  "cells": [
    {
      "cell_type": "code",
      "execution_count": null,
      "metadata": {
        "id": "uuljx-PCm_5u"
      },
      "outputs": [],
      "source": []
    },
    {
      "cell_type": "markdown",
      "source": [
        "\n",
        "\n",
        "*   Coding Problem 2.1: Credit Card Payment\n",
        "*   Miles Delos Santos\n",
        "*   CPSC 2100\n",
        "*   Due on 2/14\n",
        "\n"
      ],
      "metadata": {
        "id": "Onf6itQM5usa"
      }
    },
    {
      "cell_type": "code",
      "source": [
        "# Part 1\n",
        "\n",
        "annualInterestRate = 0.18 # the annual interest rate\n",
        "bal = 5000.0 # this is the outstanding balance on the credit card\n",
        "monthlyPayRate = 0.02 # this represents the monthly payment rate\n",
        "\n",
        "for month in range(12): # range is 12 because we're calculating the remaining balance after a year (aka 12 months)\n",
        "  minMonthlyPay = monthlyPayRate * bal # the minimum monthly payment\n",
        "\n",
        "  monthlyUnpaidBal = bal - minMonthlyPay # this is the unpaid balance after the minimum payment's been made\n",
        "\n",
        "  monthlyInterestRate = annualInterestRate / 12.0 # calculates the interest for the month\n",
        "\n",
        "  bal = monthlyUnpaidBal + (monthlyInterestRate * monthlyUnpaidBal) # updates bal at the end of each loop\n",
        "\n",
        "\n",
        "print(f\"Remaining balance after one year: ${bal:.2f}\") # the :.2f part insures that the result will only print up to 2 digit places, added a $ to make it look pretty"
      ],
      "metadata": {
        "id": "w7hrKwBJnID0",
        "colab": {
          "base_uri": "https://localhost:8080/"
        },
        "outputId": "0207bb4b-286b-4bef-dd17-9826ededa591"
      },
      "execution_count": 16,
      "outputs": [
        {
          "output_type": "stream",
          "name": "stdout",
          "text": [
            "Remaining balance after one year: $4691.11\n"
          ]
        }
      ]
    },
    {
      "cell_type": "code",
      "source": [
        "# Part 2\n",
        "# use guess and check for 2nd problem\n",
        "\n",
        "annualInterestRate = 0.18 # the annual interest rate\n",
        "bal = 5000.0 # this is the outstanding balance on the credit card\n",
        "monthlyInterestRate = annualInterestRate / 12.0 # calculation for monthly interest rate\n",
        "\n",
        "fixedPayment = 0 # initializing counter for number of guesses along with fixed monthly payment guess counter\n",
        "numOfGuesses = 0\n",
        "\n",
        "while True:\n",
        "  numOfGuesses += 1 # add another guess to the guess counter every time a guess is made\n",
        "  fixedPayment += 10 # maybe the increments of 10 thing was for this problem and I wrote it down in the wrong thing\n",
        "\n",
        "  remainingBal = bal\n",
        "  for month in range(12):\n",
        "    # calculates the monthly unpaid balance then adds the interest on top of it\n",
        "    remainingBal = (remainingBal - fixedPayment) * (1 + monthlyInterestRate)\n",
        "\n",
        "  if remainingBal <= 0: # stop guessing if the balance has been paid off (happens if balance is <= 0)\n",
        "    break\n",
        "\n",
        "print(f\"Lowest Payment: {fixedPayment}\")\n",
        "print(f\"Number of guesses: {numOfGuesses}\")"
      ],
      "metadata": {
        "id": "Y_QPXaLJ6i_M",
        "colab": {
          "base_uri": "https://localhost:8080/"
        },
        "outputId": "b01fc514-b47b-47b7-f683-50d73a11c77c"
      },
      "execution_count": 15,
      "outputs": [
        {
          "output_type": "stream",
          "name": "stdout",
          "text": [
            "Lowest Payment: 460\n",
            "Number of guesses: 46\n"
          ]
        }
      ]
    },
    {
      "cell_type": "code",
      "source": [
        "# Part 3\n",
        "# use bisection\n",
        "\n",
        "annualInterestRate = 0.18 # the annual interest rate\n",
        "bal = 5000.0 # this is the outstanding balance on the credit card\n",
        "monthlyInterestRate = annualInterestRate / 12.0 # calculation for monthly interest rate\n",
        "\n",
        "lowerBound = bal / 12.0 # the upper & lower bounds for monthly payments\n",
        "upperBound = (bal * (1 + monthlyInterestRate)**12) / 12.0\n",
        "\n",
        "epsilon = 0.01 # this is the tolerance for the final balance, to the cent\n",
        "numOfGuesses = 0\n",
        "\n",
        "while True:\n",
        "  numOfGuesses += 1\n",
        "  midPayment = (lowerBound + upperBound) / 2.0\n",
        "\n",
        "  remainingBal = bal\n",
        "  for month in range(12):\n",
        "    # calculates the monthly unpaid balance then adds the interest on top of it\n",
        "    remainingBal = (remainingBal - midPayment) * (1 + monthlyInterestRate)\n",
        "\n",
        "  if abs(remainingBal) <= epsilon: # quit guessing if remainingBal gets close enough\n",
        "    break\n",
        "  if remainingBal > 0: # adjust the lower bound if the remaining balance is positive because if it's positive it means that midPayment is too low\n",
        "    lowerBound = midPayment\n",
        "  else:\n",
        "    upperBound = midPayment # I thought my code was inefficient but it turns out I put a - instead of = here\n",
        "\n",
        "print(f\"Lowest Payment: ${midPayment:.2f}\")\n",
        "print(f\"Number of guesses: {numOfGuesses}\")\n"
      ],
      "metadata": {
        "colab": {
          "base_uri": "https://localhost:8080/"
        },
        "id": "LdTC_diFvND_",
        "outputId": "6d5dcc4a-baa8-464f-b1ce-12de1a34ce67"
      },
      "execution_count": 24,
      "outputs": [
        {
          "output_type": "stream",
          "name": "stdout",
          "text": [
            "Lowest Payment: $451.63\n",
            "Number of guesses: 16\n"
          ]
        }
      ]
    }
  ]
}